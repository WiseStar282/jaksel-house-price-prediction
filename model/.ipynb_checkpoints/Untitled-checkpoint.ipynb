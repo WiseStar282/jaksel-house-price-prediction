{
 "cells": [
  {
   "cell_type": "markdown",
   "id": "9b9aa02e-28d2-423a-a6d4-244001c55621",
   "metadata": {},
   "source": [
    "# **Project Name** : House Price Prediction - Jakarta Selatan"
   ]
  },
  {
   "cell_type": "markdown",
   "id": "bd149b0f-88e0-4ae3-83c3-5a2f23bfb977",
   "metadata": {},
   "source": [
    "#### **Project Type** - Regression\r\n",
    "#### **Contribution** -l\r\n",
    "#### **Name** if"
   ]
  },
  {
   "cell_type": "markdown",
   "id": "b9051472-b372-48a0-a16b-4aaa1c054356",
   "metadata": {},
   "source": [
    "# Import library"
   ]
  },
  {
   "cell_type": "code",
   "execution_count": 42,
   "id": "218c743a-ae07-429b-88bd-a88b023ccfa3",
   "metadata": {},
   "outputs": [],
   "source": [
    "import os\n",
    "import pandas as pd\n",
    "import matplotlib.pyplot as plt\n",
    "import seaborn as sns"
   ]
  },
  {
   "cell_type": "markdown",
   "id": "93af69e5-8164-4df5-8495-937f1c90aaa0",
   "metadata": {},
   "source": [
    "# Data Preparation"
   ]
  },
  {
   "cell_type": "markdown",
   "id": "db3c7c72-38b6-4098-a900-029893c28188",
   "metadata": {},
   "source": [
    "**Data Rumah**\n",
    "> Dataset harga rumah tebet terdiri dari 8 kolom dengan jumlah data 1100 data. Kolom tersebut terdiri dari :\n",
    "\n",
    "<ol>\r\n",
    "  <li>NO : nomor data</li>\r\n",
    "  <li>NAMA RUMAH : title rumah</li>\r\n",
    "  <li>HARGA : harga dari rumah</li>\r\n",
    "  <li>LB : jumlah luas bangunan</li>\r\n",
    "  <li>LT : jumlah luas tanah</li>\r\n",
    "  <li>KT : jumlah kamar tidur</li>\r\n",
    "  <li>KM : jumlah kamar mandi</li>\r\n",
    "  <li>GRS : jumlah kapasitas mobil dalam garasi</\r\n",
    "tem</ol>"
   ]
  },
  {
   "cell_type": "code",
   "execution_count": 72,
   "id": "a12ad1f7-b6cf-4e93-98fd-978279a9f0bf",
   "metadata": {},
   "outputs": [],
   "source": [
    "df1= pd.read_csv('../../jaksel-house-price-prediction/data/Data rumah(1).csv')\n",
    "df2= pd.read_csv('../../jaksel-house-price-prediction/data/Data rumah(2).csv')"
   ]
  },
  {
   "cell_type": "code",
   "execution_count": 30,
   "id": "f77a8a36-627a-4f10-a5e9-5d8ac5507a0f",
   "metadata": {},
   "outputs": [
    {
     "data": {
      "text/html": [
       "<div>\n",
       "<style scoped>\n",
       "    .dataframe tbody tr th:only-of-type {\n",
       "        vertical-align: middle;\n",
       "    }\n",
       "\n",
       "    .dataframe tbody tr th {\n",
       "        vertical-align: top;\n",
       "    }\n",
       "\n",
       "    .dataframe thead th {\n",
       "        text-align: right;\n",
       "    }\n",
       "</style>\n",
       "<table border=\"1\" class=\"dataframe\">\n",
       "  <thead>\n",
       "    <tr style=\"text-align: right;\">\n",
       "      <th></th>\n",
       "      <th>NO</th>\n",
       "      <th>NAMA RUMAH</th>\n",
       "      <th>HARGA</th>\n",
       "      <th>LB</th>\n",
       "      <th>LT</th>\n",
       "      <th>KT</th>\n",
       "      <th>KM</th>\n",
       "      <th>GRS</th>\n",
       "    </tr>\n",
       "  </thead>\n",
       "  <tbody>\n",
       "    <tr>\n",
       "      <th>0</th>\n",
       "      <td>1</td>\n",
       "      <td>Rumah Murah Hook Tebet Timur, Tebet, Jakarta S...</td>\n",
       "      <td>3800000000</td>\n",
       "      <td>220</td>\n",
       "      <td>220</td>\n",
       "      <td>3</td>\n",
       "      <td>3</td>\n",
       "      <td>0</td>\n",
       "    </tr>\n",
       "    <tr>\n",
       "      <th>1</th>\n",
       "      <td>2</td>\n",
       "      <td>Rumah Modern di Tebet dekat Stasiun, Tebet, Ja...</td>\n",
       "      <td>4600000000</td>\n",
       "      <td>180</td>\n",
       "      <td>137</td>\n",
       "      <td>4</td>\n",
       "      <td>3</td>\n",
       "      <td>2</td>\n",
       "    </tr>\n",
       "    <tr>\n",
       "      <th>2</th>\n",
       "      <td>3</td>\n",
       "      <td>Rumah Mewah 2 Lantai Hanya 3 Menit Ke Tebet, T...</td>\n",
       "      <td>3000000000</td>\n",
       "      <td>267</td>\n",
       "      <td>250</td>\n",
       "      <td>4</td>\n",
       "      <td>4</td>\n",
       "      <td>4</td>\n",
       "    </tr>\n",
       "    <tr>\n",
       "      <th>3</th>\n",
       "      <td>4</td>\n",
       "      <td>Rumah Baru Tebet, Tebet, Jakarta Selatan</td>\n",
       "      <td>430000000</td>\n",
       "      <td>40</td>\n",
       "      <td>25</td>\n",
       "      <td>2</td>\n",
       "      <td>2</td>\n",
       "      <td>0</td>\n",
       "    </tr>\n",
       "    <tr>\n",
       "      <th>4</th>\n",
       "      <td>5</td>\n",
       "      <td>Rumah Bagus Tebet komp Gudang Peluru lt 350m, ...</td>\n",
       "      <td>9000000000</td>\n",
       "      <td>400</td>\n",
       "      <td>355</td>\n",
       "      <td>6</td>\n",
       "      <td>5</td>\n",
       "      <td>3</td>\n",
       "    </tr>\n",
       "    <tr>\n",
       "      <th>...</th>\n",
       "      <td>...</td>\n",
       "      <td>...</td>\n",
       "      <td>...</td>\n",
       "      <td>...</td>\n",
       "      <td>...</td>\n",
       "      <td>...</td>\n",
       "      <td>...</td>\n",
       "      <td>...</td>\n",
       "    </tr>\n",
       "    <tr>\n",
       "      <th>1005</th>\n",
       "      <td>1006</td>\n",
       "      <td>Rumah Strategis Akses Jalan 2mobil Di Menteng ...</td>\n",
       "      <td>9000000000</td>\n",
       "      <td>450</td>\n",
       "      <td>550</td>\n",
       "      <td>10</td>\n",
       "      <td>10</td>\n",
       "      <td>3</td>\n",
       "    </tr>\n",
       "    <tr>\n",
       "      <th>1006</th>\n",
       "      <td>1007</td>\n",
       "      <td>Tebet Rumah Siap Huni Jln 2 Mbl Nyaman</td>\n",
       "      <td>4000000000</td>\n",
       "      <td>160</td>\n",
       "      <td>140</td>\n",
       "      <td>4</td>\n",
       "      <td>3</td>\n",
       "      <td>2</td>\n",
       "    </tr>\n",
       "    <tr>\n",
       "      <th>1007</th>\n",
       "      <td>1008</td>\n",
       "      <td>Di Kebun Baru Rumah Terawat, Area Strategis</td>\n",
       "      <td>4000000000</td>\n",
       "      <td>139</td>\n",
       "      <td>230</td>\n",
       "      <td>4</td>\n",
       "      <td>4</td>\n",
       "      <td>1</td>\n",
       "    </tr>\n",
       "    <tr>\n",
       "      <th>1008</th>\n",
       "      <td>1009</td>\n",
       "      <td>Dijual Cepat Rumah Komp Depkeu Dr Soepomo Tebe...</td>\n",
       "      <td>19000000000</td>\n",
       "      <td>360</td>\n",
       "      <td>606</td>\n",
       "      <td>7</td>\n",
       "      <td>4</td>\n",
       "      <td>0</td>\n",
       "    </tr>\n",
       "    <tr>\n",
       "      <th>1009</th>\n",
       "      <td>1010</td>\n",
       "      <td>Dijual Rumah Kokoh Di Gudang Peluru</td>\n",
       "      <td>10500000000</td>\n",
       "      <td>420</td>\n",
       "      <td>430</td>\n",
       "      <td>7</td>\n",
       "      <td>4</td>\n",
       "      <td>2</td>\n",
       "    </tr>\n",
       "  </tbody>\n",
       "</table>\n",
       "<p>1010 rows × 8 columns</p>\n",
       "</div>"
      ],
      "text/plain": [
       "        NO                                         NAMA RUMAH        HARGA  \\\n",
       "0        1  Rumah Murah Hook Tebet Timur, Tebet, Jakarta S...   3800000000   \n",
       "1        2  Rumah Modern di Tebet dekat Stasiun, Tebet, Ja...   4600000000   \n",
       "2        3  Rumah Mewah 2 Lantai Hanya 3 Menit Ke Tebet, T...   3000000000   \n",
       "3        4           Rumah Baru Tebet, Tebet, Jakarta Selatan    430000000   \n",
       "4        5  Rumah Bagus Tebet komp Gudang Peluru lt 350m, ...   9000000000   \n",
       "...    ...                                                ...          ...   \n",
       "1005  1006  Rumah Strategis Akses Jalan 2mobil Di Menteng ...   9000000000   \n",
       "1006  1007             Tebet Rumah Siap Huni Jln 2 Mbl Nyaman   4000000000   \n",
       "1007  1008        Di Kebun Baru Rumah Terawat, Area Strategis   4000000000   \n",
       "1008  1009  Dijual Cepat Rumah Komp Depkeu Dr Soepomo Tebe...  19000000000   \n",
       "1009  1010                Dijual Rumah Kokoh Di Gudang Peluru  10500000000   \n",
       "\n",
       "       LB   LT  KT  KM  GRS  \n",
       "0     220  220   3   3    0  \n",
       "1     180  137   4   3    2  \n",
       "2     267  250   4   4    4  \n",
       "3      40   25   2   2    0  \n",
       "4     400  355   6   5    3  \n",
       "...   ...  ...  ..  ..  ...  \n",
       "1005  450  550  10  10    3  \n",
       "1006  160  140   4   3    2  \n",
       "1007  139  230   4   4    1  \n",
       "1008  360  606   7   4    0  \n",
       "1009  420  430   7   4    2  \n",
       "\n",
       "[1010 rows x 8 columns]"
      ]
     },
     "execution_count": 30,
     "metadata": {},
     "output_type": "execute_result"
    }
   ],
   "source": [
    "df1"
   ]
  },
  {
   "cell_type": "code",
   "execution_count": 73,
   "id": "d055661a-b757-4d5f-823a-0ce5ef7cae01",
   "metadata": {},
   "outputs": [],
   "source": [
    "# Mengubah satuan harga rumah\n",
    "df1['Harga (Juta)'] = df1['HARGA']//1000000"
   ]
  },
  {
   "cell_type": "code",
   "execution_count": 74,
   "id": "dfc24114-8576-4ebd-b0a5-3ab76f748b3b",
   "metadata": {},
   "outputs": [
    {
     "data": {
      "text/html": [
       "<div>\n",
       "<style scoped>\n",
       "    .dataframe tbody tr th:only-of-type {\n",
       "        vertical-align: middle;\n",
       "    }\n",
       "\n",
       "    .dataframe tbody tr th {\n",
       "        vertical-align: top;\n",
       "    }\n",
       "\n",
       "    .dataframe thead th {\n",
       "        text-align: right;\n",
       "    }\n",
       "</style>\n",
       "<table border=\"1\" class=\"dataframe\">\n",
       "  <thead>\n",
       "    <tr style=\"text-align: right;\">\n",
       "      <th></th>\n",
       "      <th>LB</th>\n",
       "      <th>LT</th>\n",
       "      <th>KT</th>\n",
       "      <th>KM</th>\n",
       "      <th>GRS</th>\n",
       "      <th>Harga (Juta)</th>\n",
       "    </tr>\n",
       "  </thead>\n",
       "  <tbody>\n",
       "    <tr>\n",
       "      <th>count</th>\n",
       "      <td>1010.000000</td>\n",
       "      <td>1010.000000</td>\n",
       "      <td>1010.000000</td>\n",
       "      <td>1010.000000</td>\n",
       "      <td>1010.000000</td>\n",
       "      <td>1010.000000</td>\n",
       "    </tr>\n",
       "    <tr>\n",
       "      <th>mean</th>\n",
       "      <td>276.539604</td>\n",
       "      <td>237.432673</td>\n",
       "      <td>4.668317</td>\n",
       "      <td>3.607921</td>\n",
       "      <td>1.920792</td>\n",
       "      <td>7628.982178</td>\n",
       "    </tr>\n",
       "    <tr>\n",
       "      <th>std</th>\n",
       "      <td>177.864557</td>\n",
       "      <td>179.957604</td>\n",
       "      <td>1.572776</td>\n",
       "      <td>1.420066</td>\n",
       "      <td>1.510998</td>\n",
       "      <td>7340.945285</td>\n",
       "    </tr>\n",
       "    <tr>\n",
       "      <th>min</th>\n",
       "      <td>40.000000</td>\n",
       "      <td>25.000000</td>\n",
       "      <td>2.000000</td>\n",
       "      <td>1.000000</td>\n",
       "      <td>0.000000</td>\n",
       "      <td>430.000000</td>\n",
       "    </tr>\n",
       "    <tr>\n",
       "      <th>25%</th>\n",
       "      <td>150.000000</td>\n",
       "      <td>130.000000</td>\n",
       "      <td>4.000000</td>\n",
       "      <td>3.000000</td>\n",
       "      <td>1.000000</td>\n",
       "      <td>3262.500000</td>\n",
       "    </tr>\n",
       "    <tr>\n",
       "      <th>50%</th>\n",
       "      <td>216.500000</td>\n",
       "      <td>165.000000</td>\n",
       "      <td>4.000000</td>\n",
       "      <td>3.000000</td>\n",
       "      <td>2.000000</td>\n",
       "      <td>5000.000000</td>\n",
       "    </tr>\n",
       "    <tr>\n",
       "      <th>75%</th>\n",
       "      <td>350.000000</td>\n",
       "      <td>290.000000</td>\n",
       "      <td>5.000000</td>\n",
       "      <td>4.000000</td>\n",
       "      <td>2.000000</td>\n",
       "      <td>9000.000000</td>\n",
       "    </tr>\n",
       "    <tr>\n",
       "      <th>max</th>\n",
       "      <td>1126.000000</td>\n",
       "      <td>1400.000000</td>\n",
       "      <td>10.000000</td>\n",
       "      <td>10.000000</td>\n",
       "      <td>10.000000</td>\n",
       "      <td>65000.000000</td>\n",
       "    </tr>\n",
       "  </tbody>\n",
       "</table>\n",
       "</div>"
      ],
      "text/plain": [
       "                LB           LT           KT           KM          GRS  \\\n",
       "count  1010.000000  1010.000000  1010.000000  1010.000000  1010.000000   \n",
       "mean    276.539604   237.432673     4.668317     3.607921     1.920792   \n",
       "std     177.864557   179.957604     1.572776     1.420066     1.510998   \n",
       "min      40.000000    25.000000     2.000000     1.000000     0.000000   \n",
       "25%     150.000000   130.000000     4.000000     3.000000     1.000000   \n",
       "50%     216.500000   165.000000     4.000000     3.000000     2.000000   \n",
       "75%     350.000000   290.000000     5.000000     4.000000     2.000000   \n",
       "max    1126.000000  1400.000000    10.000000    10.000000    10.000000   \n",
       "\n",
       "       Harga (Juta)  \n",
       "count   1010.000000  \n",
       "mean    7628.982178  \n",
       "std     7340.945285  \n",
       "min      430.000000  \n",
       "25%     3262.500000  \n",
       "50%     5000.000000  \n",
       "75%     9000.000000  \n",
       "max    65000.000000  "
      ]
     },
     "execution_count": 74,
     "metadata": {},
     "output_type": "execute_result"
    }
   ],
   "source": [
    "df1.drop(['NO', 'HARGA'], axis=1, inplace=True)\n",
    "df1.describe()"
   ]
  },
  {
   "cell_type": "code",
   "execution_count": 76,
   "id": "4d865fd3-3b31-4186-82b2-c657e6c687f2",
   "metadata": {},
   "outputs": [
    {
     "data": {
      "text/html": [
       "<div>\n",
       "<style scoped>\n",
       "    .dataframe tbody tr th:only-of-type {\n",
       "        vertical-align: middle;\n",
       "    }\n",
       "\n",
       "    .dataframe tbody tr th {\n",
       "        vertical-align: top;\n",
       "    }\n",
       "\n",
       "    .dataframe thead th {\n",
       "        text-align: right;\n",
       "    }\n",
       "</style>\n",
       "<table border=\"1\" class=\"dataframe\">\n",
       "  <thead>\n",
       "    <tr style=\"text-align: right;\">\n",
       "      <th></th>\n",
       "      <th>NAMA RUMAH</th>\n",
       "      <th>LB</th>\n",
       "      <th>LT</th>\n",
       "      <th>KT</th>\n",
       "      <th>KM</th>\n",
       "      <th>GRS</th>\n",
       "      <th>Harga (Juta)</th>\n",
       "    </tr>\n",
       "  </thead>\n",
       "  <tbody>\n",
       "    <tr>\n",
       "      <th>0</th>\n",
       "      <td>Rumah Murah Hook Tebet Timur, Tebet, Jakarta S...</td>\n",
       "      <td>220</td>\n",
       "      <td>220</td>\n",
       "      <td>3</td>\n",
       "      <td>3</td>\n",
       "      <td>0</td>\n",
       "      <td>3800</td>\n",
       "    </tr>\n",
       "    <tr>\n",
       "      <th>1</th>\n",
       "      <td>Rumah Modern di Tebet dekat Stasiun, Tebet, Ja...</td>\n",
       "      <td>180</td>\n",
       "      <td>137</td>\n",
       "      <td>4</td>\n",
       "      <td>3</td>\n",
       "      <td>2</td>\n",
       "      <td>4600</td>\n",
       "    </tr>\n",
       "    <tr>\n",
       "      <th>2</th>\n",
       "      <td>Rumah Mewah 2 Lantai Hanya 3 Menit Ke Tebet, T...</td>\n",
       "      <td>267</td>\n",
       "      <td>250</td>\n",
       "      <td>4</td>\n",
       "      <td>4</td>\n",
       "      <td>4</td>\n",
       "      <td>3000</td>\n",
       "    </tr>\n",
       "    <tr>\n",
       "      <th>3</th>\n",
       "      <td>Rumah Baru Tebet, Tebet, Jakarta Selatan</td>\n",
       "      <td>40</td>\n",
       "      <td>25</td>\n",
       "      <td>2</td>\n",
       "      <td>2</td>\n",
       "      <td>0</td>\n",
       "      <td>430</td>\n",
       "    </tr>\n",
       "    <tr>\n",
       "      <th>4</th>\n",
       "      <td>Rumah Bagus Tebet komp Gudang Peluru lt 350m, ...</td>\n",
       "      <td>400</td>\n",
       "      <td>355</td>\n",
       "      <td>6</td>\n",
       "      <td>5</td>\n",
       "      <td>3</td>\n",
       "      <td>9000</td>\n",
       "    </tr>\n",
       "  </tbody>\n",
       "</table>\n",
       "</div>"
      ],
      "text/plain": [
       "                                          NAMA RUMAH   LB   LT  KT  KM  GRS  \\\n",
       "0  Rumah Murah Hook Tebet Timur, Tebet, Jakarta S...  220  220   3   3    0   \n",
       "1  Rumah Modern di Tebet dekat Stasiun, Tebet, Ja...  180  137   4   3    2   \n",
       "2  Rumah Mewah 2 Lantai Hanya 3 Menit Ke Tebet, T...  267  250   4   4    4   \n",
       "3           Rumah Baru Tebet, Tebet, Jakarta Selatan   40   25   2   2    0   \n",
       "4  Rumah Bagus Tebet komp Gudang Peluru lt 350m, ...  400  355   6   5    3   \n",
       "\n",
       "   Harga (Juta)  \n",
       "0          3800  \n",
       "1          4600  \n",
       "2          3000  \n",
       "3           430  \n",
       "4          9000  "
      ]
     },
     "execution_count": 76,
     "metadata": {},
     "output_type": "execute_result"
    }
   ],
   "source": [
    "df1.head()"
   ]
  },
  {
   "cell_type": "code",
   "execution_count": 75,
   "id": "146a9c7f-8dbd-4ee5-8996-ed1232dd7107",
   "metadata": {},
   "outputs": [
    {
     "name": "stdout",
     "output_type": "stream",
     "text": [
      "<class 'pandas.core.frame.DataFrame'>\n",
      "RangeIndex: 1010 entries, 0 to 1009\n",
      "Data columns (total 7 columns):\n",
      " #   Column        Non-Null Count  Dtype \n",
      "---  ------        --------------  ----- \n",
      " 0   NAMA RUMAH    1010 non-null   object\n",
      " 1   LB            1010 non-null   int64 \n",
      " 2   LT            1010 non-null   int64 \n",
      " 3   KT            1010 non-null   int64 \n",
      " 4   KM            1010 non-null   int64 \n",
      " 5   GRS           1010 non-null   int64 \n",
      " 6   Harga (Juta)  1010 non-null   int64 \n",
      "dtypes: int64(6), object(1)\n",
      "memory usage: 55.4+ KB\n"
     ]
    }
   ],
   "source": [
    "df1.info()"
   ]
  },
  {
   "cell_type": "code",
   "execution_count": 58,
   "id": "54953465-de03-4bf2-9fa2-8ed2184bdfb2",
   "metadata": {},
   "outputs": [
    {
     "data": {
      "text/plain": [
       "NAMA RUMAH    0\n",
       "HARGA         0\n",
       "LB            0\n",
       "LT            0\n",
       "KT            0\n",
       "KM            0\n",
       "GRS           0\n",
       "dtype: int64"
      ]
     },
     "execution_count": 58,
     "metadata": {},
     "output_type": "execute_result"
    }
   ],
   "source": [
    "df1.isnull().sum()"
   ]
  },
  {
   "cell_type": "code",
   "execution_count": null,
   "id": "6a4816aa-2de1-4ff1-8c6d-d03666d67557",
   "metadata": {},
   "outputs": [],
   "source": []
  },
  {
   "cell_type": "code",
   "execution_count": 59,
   "id": "e15200fa-f982-46d9-a1e0-09b49b157c73",
   "metadata": {},
   "outputs": [
    {
     "data": {
      "text/plain": [
       "2     360\n",
       "1     290\n",
       "0     131\n",
       "3     100\n",
       "4      83\n",
       "5      18\n",
       "6      14\n",
       "10      6\n",
       "7       3\n",
       "9       3\n",
       "8       2\n",
       "Name: GRS, dtype: int64"
      ]
     },
     "execution_count": 59,
     "metadata": {},
     "output_type": "execute_result"
    }
   ],
   "source": [
    "# creating the bar plot\n",
    "df1['GRS'].value_counts()"
   ]
  },
  {
   "cell_type": "code",
   "execution_count": 51,
   "id": "ec6ee87a-90f1-449b-8867-b583e04d5388",
   "metadata": {},
   "outputs": [
    {
     "data": {
      "image/png": "[encoded data removed]",
      "text/plain": [
       "<Figure size 1000x600 with 1 Axes>"
      ]
     },
     "metadata": {},
     "output_type": "display_data"
    }
   ],
   "source": [
    "# Menghitung value counts kolom GRS\n",
    "grs_counts = df1['GRS'].value_counts()\n",
    "\n",
    "# Membuat barplot\n",
    "plt.figure(figsize=(10, 6))\n",
    "ax = grs_counts.plot(kind='bar')\n",
    "\n",
    "# Menambahkan label dan judul\n",
    "plt.xlabel('Kapasitas Garasi')\n",
    "plt.ylabel('Jumlah')\n",
    "plt.title('Jumlah Kapasitas Garasi')\n",
    "\n",
    "# Mengatur rotasi label x agar lurus\n",
    "plt.xticks(rotation=0)\n",
    "\n",
    "# Menambahkan nilai pada setiap bar\n",
    "for i in ax.containers:\n",
    "    ax.bar_label(i)\n",
    "\n",
    "# Menampilkan plot\n",
    "plt.show()\n"
   ]
  },
  {
   "cell_type": "markdown",
   "id": "81eb5d41-7285-4374-aa1f-dd758d7ada1a",
   "metadata": {},
   "source": [
    "# Modelling"
   ]
  },
  {
   "cell_type": "code",
   "execution_count": 77,
   "id": "5e917f18-883e-4b5d-b45d-f5bad63bac15",
   "metadata": {},
   "outputs": [
    {
     "data": {
      "text/html": [
       "<style>#sk-container-id-3 {color: black;}#sk-container-id-3 pre{padding: 0;}#sk-container-id-3 div.sk-toggleable {background-color: white;}#sk-container-id-3 label.sk-toggleable__label {cursor: pointer;display: block;width: 100%;margin-bottom: 0;padding: 0.3em;box-sizing: border-box;text-align: center;}#sk-container-id-3 label.sk-toggleable__label-arrow:before {content: \"▸\";float: left;margin-right: 0.25em;color: #696969;}#sk-container-id-3 label.sk-toggleable__label-arrow:hover:before {color: black;}#sk-container-id-3 div.sk-estimator:hover label.sk-toggleable__label-arrow:before {color: black;}#sk-container-id-3 div.sk-toggleable__content {max-height: 0;max-width: 0;overflow: hidden;text-align: left;background-color: #f0f8ff;}#sk-container-id-3 div.sk-toggleable__content pre {margin: 0.2em;color: black;border-radius: 0.25em;background-color: #f0f8ff;}#sk-container-id-3 input.sk-toggleable__control:checked~div.sk-toggleable__content {max-height: 200px;max-width: 100%;overflow: auto;}#sk-container-id-3 input.sk-toggleable__control:checked~label.sk-toggleable__label-arrow:before {content: \"▾\";}#sk-container-id-3 div.sk-estimator input.sk-toggleable__control:checked~label.sk-toggleable__label {background-color: #d4ebff;}#sk-container-id-3 div.sk-label input.sk-toggleable__control:checked~label.sk-toggleable__label {background-color: #d4ebff;}#sk-container-id-3 input.sk-hidden--visually {border: 0;clip: rect(1px 1px 1px 1px);clip: rect(1px, 1px, 1px, 1px);height: 1px;margin: -1px;overflow: hidden;padding: 0;position: absolute;width: 1px;}#sk-container-id-3 div.sk-estimator {font-family: monospace;background-color: #f0f8ff;border: 1px dotted black;border-radius: 0.25em;box-sizing: border-box;margin-bottom: 0.5em;}#sk-container-id-3 div.sk-estimator:hover {background-color: #d4ebff;}#sk-container-id-3 div.sk-parallel-item::after {content: \"\";width: 100%;border-bottom: 1px solid gray;flex-grow: 1;}#sk-container-id-3 div.sk-label:hover label.sk-toggleable__label {background-color: #d4ebff;}#sk-container-id-3 div.sk-serial::before {content: \"\";position: absolute;border-left: 1px solid gray;box-sizing: border-box;top: 0;bottom: 0;left: 50%;z-index: 0;}#sk-container-id-3 div.sk-serial {display: flex;flex-direction: column;align-items: center;background-color: white;padding-right: 0.2em;padding-left: 0.2em;position: relative;}#sk-container-id-3 div.sk-item {position: relative;z-index: 1;}#sk-container-id-3 div.sk-parallel {display: flex;align-items: stretch;justify-content: center;background-color: white;position: relative;}#sk-container-id-3 div.sk-item::before, #sk-container-id-3 div.sk-parallel-item::before {content: \"\";position: absolute;border-left: 1px solid gray;box-sizing: border-box;top: 0;bottom: 0;left: 50%;z-index: -1;}#sk-container-id-3 div.sk-parallel-item {display: flex;flex-direction: column;z-index: 1;position: relative;background-color: white;}#sk-container-id-3 div.sk-parallel-item:first-child::after {align-self: flex-end;width: 50%;}#sk-container-id-3 div.sk-parallel-item:last-child::after {align-self: flex-start;width: 50%;}#sk-container-id-3 div.sk-parallel-item:only-child::after {width: 0;}#sk-container-id-3 div.sk-dashed-wrapped {border: 1px dashed gray;margin: 0 0.4em 0.5em 0.4em;box-sizing: border-box;padding-bottom: 0.4em;background-color: white;}#sk-container-id-3 div.sk-label label {font-family: monospace;font-weight: bold;display: inline-block;line-height: 1.2em;}#sk-container-id-3 div.sk-label-container {text-align: center;}#sk-container-id-3 div.sk-container {/* jupyter's `normalize.less` sets `[hidden] { display: none; }` but bootstrap.min.css set `[hidden] { display: none !important; }` so we also need the `!important` here to be able to override the default hidden behavior on the sphinx rendered scikit-learn.org. See: https://github.com/scikit-learn/scikit-learn/issues/21755 */display: inline-block !important;position: relative;}#sk-container-id-3 div.sk-text-repr-fallback {display: none;}</style><div id=\"sk-container-id-3\" class=\"sk-top-container\"><div class=\"sk-text-repr-fallback\"><pre>LinearRegression()</pre><b>In a Jupyter environment, please rerun this cell to show the HTML representation or trust the notebook. <br />On GitHub, the HTML representation is unable to render, please try loading this page with nbviewer.org.</b></div><div class=\"sk-container\" hidden><div class=\"sk-item\"><div class=\"sk-estimator sk-toggleable\"><input class=\"sk-toggleable__control sk-hidden--visually\" id=\"sk-estimator-id-3\" type=\"checkbox\" checked><label for=\"sk-estimator-id-3\" class=\"sk-toggleable__label sk-toggleable__label-arrow\">LinearRegression</label><div class=\"sk-toggleable__content\"><pre>LinearRegression()</pre></div></div></div></div></div>"
      ],
      "text/plain": [
       "LinearRegression()"
      ]
     },
     "execution_count": 77,
     "metadata": {},
     "output_type": "execute_result"
    }
   ],
   "source": [
    "import pandas\n",
    "from sklearn import linear_model\n",
    "\n",
    "X = df1[['LB', 'LT', 'KT', 'KM', 'GRS']]\n",
    "y = df1['Harga (Juta)']\n",
    "\n",
    "regr = linear_model.LinearRegression()\n",
    "regr.fit(X, y)\n"
   ]
  },
  {
   "cell_type": "code",
   "execution_count": 80,
   "id": "24eed3fc-b01f-499b-b8fe-e6f0dd64e73b",
   "metadata": {},
   "outputs": [
    {
     "name": "stdout",
     "output_type": "stream",
     "text": [
      "[6681.31492849]\n"
     ]
    },
    {
     "name": "stderr",
     "output_type": "stream",
     "text": [
      "C:\\Users\\ACER\\AppData\\Local\\Programs\\Python\\Python310\\lib\\site-packages\\sklearn\\base.py:464: UserWarning: X does not have valid feature names, but LinearRegression was fitted with feature names\n",
      "  warnings.warn(\n"
     ]
    }
   ],
   "source": [
    "prediksi = regr.predict([[220, 220, 3, 3,\t0]])\n",
    "print(prediksi)"
   ]
  },
  {
   "cell_type": "code",
   "execution_count": 81,
   "id": "905ec532-d477-4d42-be25-7da5d43c9491",
   "metadata": {},
   "outputs": [
    {
     "name": "stderr",
     "output_type": "stream",
     "text": [
      "C:\\Users\\ACER\\AppData\\Local\\Temp\\ipykernel_700\\473017434.py:1: FutureWarning: The default value of numeric_only in DataFrame.corr is deprecated. In a future version, it will default to False. Select only valid columns or specify the value of numeric_only to silence this warning.\n",
      "  df1.corr()\n"
     ]
    },
    {
     "data": {
      "text/html": [
       "<div>\n",
       "<style scoped>\n",
       "    .dataframe tbody tr th:only-of-type {\n",
       "        vertical-align: middle;\n",
       "    }\n",
       "\n",
       "    .dataframe tbody tr th {\n",
       "        vertical-align: top;\n",
       "    }\n",
       "\n",
       "    .dataframe thead th {\n",
       "        text-align: right;\n",
       "    }\n",
       "</style>\n",
       "<table border=\"1\" class=\"dataframe\">\n",
       "  <thead>\n",
       "    <tr style=\"text-align: right;\">\n",
       "      <th></th>\n",
       "      <th>LB</th>\n",
       "      <th>LT</th>\n",
       "      <th>KT</th>\n",
       "      <th>KM</th>\n",
       "      <th>GRS</th>\n",
       "      <th>Harga (Juta)</th>\n",
       "    </tr>\n",
       "  </thead>\n",
       "  <tbody>\n",
       "    <tr>\n",
       "      <th>LB</th>\n",
       "      <td>1.000000</td>\n",
       "      <td>0.740341</td>\n",
       "      <td>0.443578</td>\n",
       "      <td>0.529889</td>\n",
       "      <td>0.492331</td>\n",
       "      <td>0.747083</td>\n",
       "    </tr>\n",
       "    <tr>\n",
       "      <th>LT</th>\n",
       "      <td>0.740341</td>\n",
       "      <td>1.000000</td>\n",
       "      <td>0.425484</td>\n",
       "      <td>0.388504</td>\n",
       "      <td>0.484394</td>\n",
       "      <td>0.809617</td>\n",
       "    </tr>\n",
       "    <tr>\n",
       "      <th>KT</th>\n",
       "      <td>0.443578</td>\n",
       "      <td>0.425484</td>\n",
       "      <td>1.000000</td>\n",
       "      <td>0.669457</td>\n",
       "      <td>0.280445</td>\n",
       "      <td>0.323320</td>\n",
       "    </tr>\n",
       "    <tr>\n",
       "      <th>KM</th>\n",
       "      <td>0.529889</td>\n",
       "      <td>0.388504</td>\n",
       "      <td>0.669457</td>\n",
       "      <td>1.000000</td>\n",
       "      <td>0.345323</td>\n",
       "      <td>0.404770</td>\n",
       "    </tr>\n",
       "    <tr>\n",
       "      <th>GRS</th>\n",
       "      <td>0.492331</td>\n",
       "      <td>0.484394</td>\n",
       "      <td>0.280445</td>\n",
       "      <td>0.345323</td>\n",
       "      <td>1.000000</td>\n",
       "      <td>0.484892</td>\n",
       "    </tr>\n",
       "    <tr>\n",
       "      <th>Harga (Juta)</th>\n",
       "      <td>0.747083</td>\n",
       "      <td>0.809617</td>\n",
       "      <td>0.323320</td>\n",
       "      <td>0.404770</td>\n",
       "      <td>0.484892</td>\n",
       "      <td>1.000000</td>\n",
       "    </tr>\n",
       "  </tbody>\n",
       "</table>\n",
       "</div>"
      ],
      "text/plain": [
       "                    LB        LT        KT        KM       GRS  Harga (Juta)\n",
       "LB            1.000000  0.740341  0.443578  0.529889  0.492331      0.747083\n",
       "LT            0.740341  1.000000  0.425484  0.388504  0.484394      0.809617\n",
       "KT            0.443578  0.425484  1.000000  0.669457  0.280445      0.323320\n",
       "KM            0.529889  0.388504  0.669457  1.000000  0.345323      0.404770\n",
       "GRS           0.492331  0.484394  0.280445  0.345323  1.000000      0.484892\n",
       "Harga (Juta)  0.747083  0.809617  0.323320  0.404770  0.484892      1.000000"
      ]
     },
     "execution_count": 81,
     "metadata": {},
     "output_type": "execute_result"
    }
   ],
   "source": [
    "df1.corr()"
   ]
  },
  {
   "cell_type": "code",
   "execution_count": null,
   "id": "00cbacf2-e8bc-4362-977a-9efcd7ded88a",
   "metadata": {},
   "outputs": [],
   "source": []
  },
  {
   "cell_type": "code",
   "execution_count": null,
   "id": "c76b6bf7-ca66-4829-a5d9-ba8d2bf6ceb1",
   "metadata": {},
   "outputs": [],
   "source": []
  }
 ],
 "metadata": {
  "kernelspec": {
   "display_name": "Python 3 (ipykernel)",
   "language": "python",
   "name": "python3"
  },
  "language_info": {
   "codemirror_mode": {
    "name": "ipython",
    "version": 3
   },
   "file_extension": ".py",
   "mimetype": "text/x-python",
   "name": "python",
   "nbconvert_exporter": "python",
   "pygments_lexer": "ipython3",
   "version": "3.10.2"
  }
 },
 "nbformat": 4,
 "nbformat_minor": 5
}
